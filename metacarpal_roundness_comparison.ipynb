{
 "cells": [
  {
   "cell_type": "code",
   "execution_count": null,
   "metadata": {},
   "outputs": [],
   "source": [
    "import cv2\n",
    "import numpy as np\n",
    "from matplotlib import pyplot as plt\n",
    "import seaborn as sns\n",
    "import pandas as pd\n",
    "import os\n",
    "import glob\n",
    "import re\n",
    "from itertools import groupby\n",
    "from scipy import optimize\n",
    "from scipy.signal import argrelextrema\n",
    "from tqdm import tqdm"
   ]
  },
  {
   "cell_type": "markdown",
   "metadata": {},
   "source": [
    "# Helper functions"
   ]
  },
  {
   "cell_type": "code",
   "execution_count": null,
   "metadata": {},
   "outputs": [],
   "source": [
    "def rotate_and_crop_binary_image(binary_image):\n",
    "\n",
    "   # Find contours in the binary image\n",
    "   contours, _ = cv2.findContours(binary_image, cv2.RETR_EXTERNAL, cv2.CHAIN_APPROX_SIMPLE)\n",
    "\n",
    "   # Get the rotated bounding box\n",
    "   contour = max(contours, key=cv2.contourArea)\n",
    "   rect = cv2.minAreaRect(contour)\n",
    "   box = cv2.boxPoints(rect)\n",
    "   box = np.intp(box)\n",
    "\n",
    "   # Compute the angle and size of the rotated bounding box\n",
    "   # TODO: handle rotation of the box to ensure metacarpal head on LEFT side!\n",
    "   size = (int(rect[1][0]), int(rect[1][1]))\n",
    "   if size[0] < size[1]:\n",
    "      # print('rotating')\n",
    "      angle = rect[2] + 90\n",
    "   else:\n",
    "      angle = rect[2]\n",
    "\n",
    "   # Rotate the image\n",
    "   center = tuple(map(int, rect[0]))\n",
    "   rotation_matrix = cv2.getRotationMatrix2D(center, angle, 1)\n",
    "   rotated_image = cv2.warpAffine(binary_image, rotation_matrix, binary_image.shape[::-1], flags=cv2.INTER_LINEAR)\n",
    "\n",
    "   # Crop the rotated image to the bounding box\n",
    "   x, y, w, h = cv2.boundingRect(box)\n",
    "   pad = 40\n",
    "   cropped_image = rotated_image[y - pad : y + h + pad, x - pad : x + w + pad]\n",
    "   # cropped_image = rotated_image[y : y + h, x: x + w]\n",
    "\n",
    "   return cropped_image"
   ]
  },
  {
   "cell_type": "code",
   "execution_count": null,
   "metadata": {},
   "outputs": [],
   "source": [
    "def get_articular_surface(mask):\n",
    "\n",
    "    # get width of each point on the bone\n",
    "    widths = []\n",
    "    for x in range(mask.shape[1]):\n",
    "        col = mask[:, x]\n",
    "        if np.any(col):\n",
    "            width = np.flatnonzero(col)[-1] - np.flatnonzero(col)[0]\n",
    "            widths.append(width)\n",
    "        else:\n",
    "            widths.append(0)\n",
    "    \n",
    "    # find critical x value that maximizes thickness (the thickest point of bone)\n",
    "    widths = np.array(widths)\n",
    "    candidates = argrelextrema(widths, np.greater_equal)[0]\n",
    "    critical_x = candidates[np.flatnonzero(widths[candidates])][0]\n",
    "\n",
    "    # find the critical y_max and y_min (the widest part of shape)\n",
    "    critical_y_max = np.flatnonzero(mask[:, critical_x])[0]\n",
    "    critical_y_min = np.flatnonzero(mask[:, critical_x])[-1]\n",
    "\n",
    "    # find contour of metacarpal head\n",
    "    contours, _ = cv2.findContours(mask, cv2.RETR_EXTERNAL, cv2.CHAIN_APPROX_SIMPLE)\n",
    "    cnt = max(contours, key=cv2.contourArea)\n",
    "    coords = [(i[0][0], i[0][1]) for i in cnt]\n",
    "\n",
    "    # find arc between top and bottom extrema\n",
    "    arc = np.array([c for c in coords if c[0] <= critical_x])\n",
    "\n",
    "    # calculate apex point\n",
    "    apex_y = (critical_y_max + critical_y_min) // 2\n",
    "    apex_x = np.flatnonzero(mask[apex_y, :])[0]\n",
    "\n",
    "    return arc, (critical_x, critical_y_max), (critical_x, critical_y_min), (apex_x, apex_y)"
   ]
  },
  {
   "cell_type": "code",
   "execution_count": null,
   "metadata": {},
   "outputs": [],
   "source": [
    "# calculate the distance of data points (x, y) from center (xc, yc)\n",
    "def calc_R(xc, yc, x, y):\n",
    "    return np.sqrt((x-xc)**2 + (y-yc)**2)\n",
    "\n",
    "# calculate algebraic distance between data points (x, y) and the mean circle centered at (xc, yc)\n",
    "def f(c, x, y):\n",
    "    Ri = calc_R(*c, x, y)\n",
    "    return Ri - Ri.mean()"
   ]
  },
  {
   "cell_type": "code",
   "execution_count": null,
   "metadata": {},
   "outputs": [],
   "source": [
    "def circle_fitting(x, y):\n",
    "\n",
    "    # coordinates of the barycenter\n",
    "    x_m = np.mean(x)\n",
    "    y_m = np.mean(y)\n",
    "\n",
    "    # find best-fitting circle\n",
    "    center_estimate = x_m, y_m\n",
    "    center, ier = optimize.leastsq(f, center_estimate, args = (x, y))\n",
    "\n",
    "    # record statistics for best-fitting circle\n",
    "    Ri = calc_R(*center, x, y)\n",
    "    R = Ri.mean()\n",
    "    residual = sum((Ri - R)**2)\n",
    "\n",
    "    return center, R, residual"
   ]
  },
  {
   "cell_type": "code",
   "execution_count": null,
   "metadata": {},
   "outputs": [],
   "source": [
    "def visualize_geometry(cropped_img, topmost, bottommost, apex, center, a, R, accession, save=False, outdir=None):\n",
    "\n",
    "    # visualize metacarpal head with associated geometry\n",
    "    plt.imshow(cropped_img, cmap=plt.cm.gray)\n",
    "\n",
    "    # line through endpoints of articular surface\n",
    "    plt.plot([topmost[0], bottommost[0]], [topmost[1], bottommost[1]], color = 'red')\n",
    "\n",
    "    # line showing radius of best-fit circle\n",
    "    plt.plot([apex[0], apex[0]+ R], [apex[1], apex[1]], color = 'red')\n",
    "\n",
    "    # all critical points\n",
    "    [plt.scatter(*i, c='red', marker='o') for i in (topmost, bottommost)];\n",
    "    [plt.scatter(*i, c='red', marker='|') for i in (apex, (apex[0] + R, apex[1]))];\n",
    "\n",
    "    # show best-fitting circle\n",
    "    circle = plt.Circle(center, R, fill=False, color='red')\n",
    "    plt.gca().add_artist(circle)\n",
    "\n",
    "    # add labels for text\n",
    "    plt.text(0, -5, '\\n'.join([f\"a = {round(a, 2)}\", \n",
    "        f\"R = {round(R, 2)}\", \n",
    "        f\"ratio = {round(a / R, 4)}\"]), \n",
    "        bbox=dict(facecolor='black', alpha=0.5),\n",
    "        color='white')\n",
    "\n",
    "    # title\n",
    "    plt.title(accession)\n",
    "\n",
    "    # show and save\n",
    "    fig = plt.gcf()\n",
    "    plt.show()\n",
    "    plt.draw()\n",
    "    if save: fig.savefig(os.path.join(outdir, f'{accession}.png'));"
   ]
  },
  {
   "cell_type": "code",
   "execution_count": null,
   "metadata": {},
   "outputs": [],
   "source": [
    "def get_roundness(mask):\n",
    "\n",
    "    # isolate metacarpal head\n",
    "    cropped_img = rotate_and_crop_binary_image(mask)\n",
    "\n",
    "    # get articular surface\n",
    "    arc, bottommost, topmost, apex = get_articular_surface(cropped_img)\n",
    "\n",
    "    # data points for articular surface\n",
    "    x = arc[:, 0]\n",
    "    y = arc[:, 1]\n",
    "\n",
    "    # best-fit circle\n",
    "    center, R, _ = circle_fitting(x, y)\n",
    "\n",
    "    # calculate distance between endpoints of articular surface\n",
    "    a = topmost[1] - bottommost[1]\n",
    "\n",
    "    # calculate ratio\n",
    "    roundness = a / R\n",
    "\n",
    "    # save data\n",
    "    args = (topmost, bottommost, apex, center, a, R)\n",
    "\n",
    "    return roundness, cropped_img, args"
   ]
  },
  {
   "cell_type": "markdown",
   "metadata": {},
   "source": [
    "# Sample one image"
   ]
  },
  {
   "attachments": {},
   "cell_type": "markdown",
   "metadata": {},
   "source": [
    "### Read images"
   ]
  },
  {
   "cell_type": "code",
   "execution_count": null,
   "metadata": {},
   "outputs": [],
   "source": [
    "# UCL rupture\n",
    "\n",
    "# mask_path = './UCL rupture - masked'\n",
    "# all_mask_paths = [file for file in glob.glob(os.path.join(mask_path, '*')) if file.lower().endswith(('.jpg', '.jpeg', '.png'))]\n",
    "\n",
    "# image_path = './UCL rupture - unmasked'\n",
    "# all_image_paths = [file for file in glob.glob(os.path.join(image_path, '*')) if file.lower().endswith(('.jpg', '.jpeg', '.png'))]\n",
    "\n",
    "# controls\n",
    "\n",
    "# mask_path = './Controls - masked'\n",
    "# all_mask_paths = [file for file in glob.glob(os.path.join(mask_path, '*')) if file.lower().endswith(('.jpg', '.jpeg', '.png'))]\n",
    "\n",
    "# image_path = './Controls - unmasked'\n",
    "# all_image_paths = [file for file in glob.glob(os.path.join(image_path, '*')) if file.lower().endswith(('.jpg', '.jpeg', '.png'))]"
   ]
  },
  {
   "cell_type": "code",
   "execution_count": null,
   "metadata": {},
   "outputs": [],
   "source": [
    "# sample random scan\n",
    "accession = re.search('[0-9]+', os.path.basename(np.random.choice(all_mask_paths))).group()\n",
    "\n",
    "# retrieve image and mask (depends on directory structure)\n",
    "img_sample_path = glob.glob(os.path.join(image_path, f'*{accession}*'))[0]\n",
    "mask_sample_path = glob.glob(os.path.join(mask_path, f'*{accession}*'))[0]\n",
    "\n",
    "img = cv2.imread(img_sample_path)\n",
    "img = cv2.cvtColor(img, cv2.COLOR_BGR2GRAY)\n",
    "\n",
    "mask = cv2.imread(mask_sample_path)\n",
    "mask = cv2.cvtColor(mask, cv2.COLOR_BGR2GRAY)\n",
    "\n",
    "nonzero_proportion = np.sum(mask) / (mask.shape[0] * mask.shape[1]) / 255\n",
    "if nonzero_proportion == 0.0 or nonzero_proportion == 1.0:\n",
    "    print('No mask found')\n",
    "elif nonzero_proportion > 0.5:\n",
    "    mask = cv2.bitwise_not(mask)\n",
    "\n",
    "_, mask = cv2.threshold(mask, 127, 255, cv2.THRESH_BINARY)\n",
    "\n",
    "plt.imshow(np.hstack([img, mask]), cmap=plt.cm.gray)"
   ]
  },
  {
   "cell_type": "code",
   "execution_count": null,
   "metadata": {},
   "outputs": [],
   "source": [
    "# isolate metacarpal head and get extrema\n",
    "cropped_img = rotate_and_crop_binary_image(mask)\n",
    "plt.imshow(cropped_img, cmap=plt.cm.gray)\n",
    "\n",
    "arc, bottommost, topmost, apex = get_articular_surface(cropped_img)\n",
    "[plt.scatter(*i, c='red', marker='.') for i in arc];"
   ]
  },
  {
   "cell_type": "code",
   "execution_count": null,
   "metadata": {},
   "outputs": [],
   "source": [
    "# data points for articular surface\n",
    "x = arc[:, 0]\n",
    "y = arc[:, 1]\n",
    "\n",
    "# best-fit circle\n",
    "center, R, _ = circle_fitting(x, y)\n",
    "\n",
    "# calculate distance between endpoints of articular surface\n",
    "a = topmost[1] - bottommost[1]"
   ]
  },
  {
   "cell_type": "code",
   "execution_count": null,
   "metadata": {},
   "outputs": [],
   "source": [
    "# visualize\n",
    "visualize_geometry(cropped_img, topmost, bottommost, apex, center, a, R, accession, save=False, outdir='./results_20230818/')"
   ]
  },
  {
   "cell_type": "code",
   "execution_count": null,
   "metadata": {},
   "outputs": [],
   "source": [
    "print(\"a =\", a)\n",
    "print(\"R =\", R)\n",
    "print(\"ratio =\", a / R)"
   ]
  },
  {
   "cell_type": "markdown",
   "metadata": {},
   "source": [
    "# Calculate for entire dataset"
   ]
  },
  {
   "cell_type": "code",
   "execution_count": null,
   "metadata": {},
   "outputs": [],
   "source": [
    "# loop through all masks and get roundness\n",
    "\n",
    "df = pd.DataFrame(columns=['group', 'accession', 'roundness'])\n",
    "\n",
    "control_path = './Controls - masked'\n",
    "case_path = './UCL rupture - masked'\n",
    "\n",
    "with open('./unfiltered_accessions.txt', 'w') as file:\n",
    "    for is_control, dir_path in zip([True, False], [control_path, case_path]):\n",
    "\n",
    "        count = 0\n",
    "        error_count = 0\n",
    "            \n",
    "        # get all mask paths\n",
    "        all_mask_paths = [file for file in glob.glob(os.path.join(dir_path, '*')) if file.lower().endswith(('.jpg', '.jpeg', '.png'))]\n",
    "\n",
    "        for mask_path in tqdm(all_mask_paths):\n",
    "\n",
    "            # get accession number\n",
    "            accession = re.search('[0-9]+', os.path.basename(mask_path)).group()\n",
    "            file.write(accession + '\\n')\n",
    "            count += 1\n",
    "\n",
    "            # read mask\n",
    "            mask = cv2.imread(mask_path)\n",
    "            mask = cv2.cvtColor(mask, cv2.COLOR_BGR2GRAY)\n",
    "            nonzero_proportion = np.sum(mask) / (mask.shape[0] * mask.shape[1]) / 255\n",
    "            if nonzero_proportion == 0.0 or nonzero_proportion == 1.0:\n",
    "                print('No mask found for accession:', accession)\n",
    "                error_count += 1\n",
    "                continue\n",
    "            elif nonzero_proportion > 0.5:\n",
    "                mask = cv2.bitwise_not(mask)\n",
    "            _, mask = cv2.threshold(mask, 127, 255, cv2.THRESH_BINARY)\n",
    "\n",
    "            # get roundness\n",
    "            try:\n",
    "                roundness, cropped_img, args = get_roundness(mask)\n",
    "            except:\n",
    "                print('Error in accession:', accession)\n",
    "                error_count += 1\n",
    "                continue\n",
    "\n",
    "            # append to dataframe\n",
    "            df = pd.concat([df, pd.DataFrame({'group': ['control' if is_control else 'case'], 'accession': [accession], 'roundness': [roundness]})], ignore_index=True)\n",
    "\n",
    "            # save geometry\n",
    "            visualize_geometry(cropped_img, *args, accession, save=True, outdir='./results_20231006/')\n",
    "\n",
    "        print('Number of total accessions:', count)\n",
    "        print('Number of errors:', error_count)\n",
    "\n",
    "file.close()"
   ]
  },
  {
   "cell_type": "code",
   "execution_count": null,
   "metadata": {},
   "outputs": [],
   "source": [
    "# save means and SEM for each group\n",
    "control_mean = df[df['group'] == 'control'].roundness.mean()\n",
    "control_sem = df[df['group'] == 'control'].roundness.std() / np.sqrt(len(df[df['group'] == 'control']))\n",
    "case_mean = df[df['group'] == 'case'].roundness.mean()\n",
    "case_sem = df[df['group'] == 'case'].roundness.std() / np.sqrt(len(df[df['group'] == 'case']))\n",
    "\n",
    "# print\n",
    "print('Control mean: ' + str(round(control_mean, 3)) + ' +/- ' + str(round(control_sem, 3)))\n",
    "print('Case mean: ' + str(round(case_mean, 3)) + ' +/- ' + str(round(case_sem, 3)))"
   ]
  },
  {
   "cell_type": "markdown",
   "metadata": {},
   "source": [
    "# Visualize distribution"
   ]
  },
  {
   "cell_type": "code",
   "execution_count": null,
   "metadata": {},
   "outputs": [],
   "source": [
    "# plot\n",
    "fig, ax = plt.subplots(figsize=(4, 4))\n",
    "sns.barplot(x='group', y='roundness', data=df, ax=ax, palette='Set2')\n",
    "ax.set(xlabel='', ylabel='roundness')\n",
    "ax.set_xticklabels(['control', 'case'])\n",
    "# ax.set_ylim(1, 2.5)\n",
    "ax.set_title('Metacarpal roundness')\n",
    "ax.text(0, 1.6, 'n = ' + str(len(df[df['group'] == 'control'])), ha='center')\n",
    "ax.text(1, 1.6, 'n = ' + str(len(df[df['group'] == 'case'])), ha='center')\n",
    "ax.text(0, 1.5, 'mean = ' + str(round(control_mean, 2)) + ' +/- ' + str(round(control_sem, 2)), ha='center')\n",
    "ax.text(1, 1.5, 'mean = ' + str(round(case_mean, 2)) + ' +/- ' + str(round(case_sem, 2)), ha='center')\n",
    "fig.tight_layout()"
   ]
  },
  {
   "cell_type": "code",
   "execution_count": null,
   "metadata": {},
   "outputs": [],
   "source": [
    "# plot\n",
    "fig, ax = plt.subplots(figsize=(4, 4))\n",
    "sns.stripplot(x='group', y='roundness', data=df, ax=ax, palette='Set2')\n",
    "ax.set(xlabel='', ylabel='roundness')\n",
    "ax.set_xticklabels(['control', 'case'])\n",
    "# ax.set_ylim(1, 2.5)\n",
    "ax.set_title('Metacarpal roundness')\n",
    "ax.text(0, 2.5, 'n = ' + str(len(df[df['group'] == 'control'])), ha='center')\n",
    "ax.text(1, 2.5, 'n = ' + str(len(df[df['group'] == 'case'])), ha='center')\n",
    "ax.text(0, 2.4, 'mean = ' + str(round(control_mean, 2)) + ' +/- ' + str(round(control_sem, 2)), ha='center')\n",
    "ax.text(1, 2.4, 'mean = ' + str(round(case_mean, 2)) + ' +/- ' + str(round(case_sem, 2)), ha='center')\n",
    "fig.tight_layout()"
   ]
  },
  {
   "cell_type": "code",
   "execution_count": null,
   "metadata": {},
   "outputs": [],
   "source": [
    "# plot histogram of roundness for control and case groups\n",
    "\n",
    "df[df['group'] == 'control'].roundness.hist(bins=15, alpha=0.5, label='control', color='#66c2a5', density=True)\n",
    "sns.kdeplot(df[df['group'] == 'control'].roundness, color='#66c2a5', alpha=1, linestyle='--')\n",
    "\n",
    "df[df['group'] == 'case'].roundness.hist(bins=15, alpha=0.5, label='case', color='#fc8d62', density=True)\n",
    "sns.kdeplot(df[df['group'] == 'case'].roundness, color='#fc8d62', alpha=1, linestyle='--')\n",
    "\n",
    "plt.xlabel('roundness')\n",
    "plt.ylabel('density')\n",
    "plt.legend()"
   ]
  },
  {
   "cell_type": "code",
   "execution_count": null,
   "metadata": {},
   "outputs": [],
   "source": [
    "# sort and examine range of roundness values\n",
    "df.sort_values(by=['roundness'], inplace=False)"
   ]
  },
  {
   "cell_type": "markdown",
   "metadata": {},
   "source": [
    "# Statistical testing"
   ]
  },
  {
   "cell_type": "code",
   "execution_count": null,
   "metadata": {},
   "outputs": [],
   "source": [
    "# split into case/control\n",
    "controls = df[df['group'] == 'control']['roundness']\n",
    "cases = df[df['group'] == 'case']['roundness']"
   ]
  },
  {
   "cell_type": "code",
   "execution_count": null,
   "metadata": {},
   "outputs": [],
   "source": [
    "from scipy.stats import ttest_ind\n",
    "result = ttest_ind(controls, cases, alternative='two-sided')\n",
    "result"
   ]
  }
 ],
 "metadata": {
  "kernelspec": {
   "display_name": "mgh-ortho",
   "language": "python",
   "name": "python3"
  },
  "language_info": {
   "codemirror_mode": {
    "name": "ipython",
    "version": 3
   },
   "file_extension": ".py",
   "mimetype": "text/x-python",
   "name": "python",
   "nbconvert_exporter": "python",
   "pygments_lexer": "ipython3",
   "version": "3.11.3"
  },
  "orig_nbformat": 4
 },
 "nbformat": 4,
 "nbformat_minor": 2
}
